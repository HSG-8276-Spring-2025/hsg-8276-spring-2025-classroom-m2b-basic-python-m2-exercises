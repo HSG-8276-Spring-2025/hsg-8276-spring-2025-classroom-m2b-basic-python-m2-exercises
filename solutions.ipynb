{
 "cells": [
  {
   "cell_type": "markdown",
   "id": "0",
   "metadata": {},
   "source": [
    "# In-Class Exercise 2 (solution)\n",
    "\n",
    "> **Note:**\n",
    "> \n",
    "> 1. Solve the bonus questions only after finishing all other exercises.\n",
    "> \n",
    "> 2. Please commit every time you solve one of the exercises. An example commit message\n",
    "> could be `\"Solution to question 1\"`. Feel free to commit more than once per\n",
    "> exercise if solving it requires multiple complicated steps."
   ]
  },
  {
   "attachments": {},
   "cell_type": "markdown",
   "id": "1",
   "metadata": {},
   "source": [
    "## Assignment and Built-in Scalar Types\n",
    "\n",
    "---\n",
    "### Question 1\n",
    "\n",
    "Compute the value of the expression $(a + b)^2 / 10 $, with $a = 3.14$ and $b =\n",
    "-10^{-5}$."
   ]
  },
  {
   "cell_type": "code",
   "execution_count": null,
   "id": "2",
   "metadata": {},
   "outputs": [],
   "source": [
    "a = 3.14\n",
    "b = -10e-5\n",
    "\n",
    "(a + b) ** 2 / 10"
   ]
  },
  {
   "cell_type": "markdown",
   "id": "3",
   "metadata": {},
   "source": [
    "---\n",
    "### Question 2\n",
    "\n",
    "Check whether the following expression is true $a^{13} < -\\frac{1}{b}$"
   ]
  },
  {
   "cell_type": "code",
   "execution_count": null,
   "id": "4",
   "metadata": {},
   "outputs": [],
   "source": [
    "a**13 < -1 / b"
   ]
  },
  {
   "cell_type": "markdown",
   "id": "5",
   "metadata": {},
   "source": [
    "---\n",
    "### Question 3\n",
    "\n",
    "Compute the sum of the squares of `a`, `b` and `c`, where $a = 2.5$, $b = -3.7$ and\n",
    "$c = 4.6$. Then convert the sum to an integer and check if it is even or odd."
   ]
  },
  {
   "cell_type": "code",
   "execution_count": null,
   "id": "6",
   "metadata": {},
   "outputs": [],
   "source": [
    "a, b, c = 2.5, -3.7, 4.6\n",
    "sum_of_squares = a**2 + b**2 + c**2\n",
    "sum_as_int = int(sum_of_squares)\n",
    "is_even = sum_as_int % 2 == 0\n",
    "is_even"
   ]
  },
  {
   "cell_type": "markdown",
   "id": "7",
   "metadata": {},
   "source": [
    "---\n",
    "### Question 4 (Bonus)\n",
    "\n",
    "Given the expression `2 + 3 * 4 ** 2 - 1 / 5`, without adding any parentheses,\n",
    "can you determine the order in which the operations are performed? What is the\n",
    "final result?"
   ]
  },
  {
   "cell_type": "markdown",
   "id": "8",
   "metadata": {},
   "source": [
    "\n",
    "The result is 49.8. Exponentiation `**` is executed first, then multiplication `*` and\n",
    "division `/`, followed by `+` and `-`. You can find a summary table on the official\n",
    "[documentation](https://docs.python.org/3/reference/expressions.html#operator-precedence)."
   ]
  },
  {
   "cell_type": "markdown",
   "id": "9",
   "metadata": {},
   "source": [
    "---\n",
    "### Question 5 (Bonus)\n",
    "\n",
    "Given variables `a = True`, `b = False`, and `c = True`, evaluate the following\n",
    "expression\n",
    "\n",
    "$$ ((a \\land b) \\lor c) \\land \\lnot (a \\lor (b \\land c)) $$"
   ]
  },
  {
   "cell_type": "code",
   "execution_count": null,
   "id": "10",
   "metadata": {},
   "outputs": [],
   "source": [
    "a, b, c = True, False, True\n",
    "\n",
    "expr = ((a and b) or c) and not (a or (b and c))\n",
    "expr"
   ]
  },
  {
   "cell_type": "markdown",
   "id": "11",
   "metadata": {},
   "source": [
    "## Strings\n",
    "\n",
    "---\n",
    "### Question 6\n",
    "\n",
    "Take the string variable `a`:"
   ]
  },
  {
   "cell_type": "code",
   "execution_count": null,
   "id": "12",
   "metadata": {},
   "outputs": [],
   "source": [
    "a = \"I like programming\""
   ]
  },
  {
   "cell_type": "markdown",
   "id": "13",
   "metadata": {},
   "source": [
    "and split it into three words. Assign these words to the variables `a1`, `a2` and `a3`.\n",
    "\n",
    "> **Tip:** Check out the \n",
    "> [documentation](https://docs.python.org/3/library/stdtypes.html#str.split)\n",
    "> of the `split` method."
   ]
  },
  {
   "cell_type": "code",
   "execution_count": null,
   "id": "14",
   "metadata": {},
   "outputs": [],
   "source": [
    "a1, a2, a3 = a.split(\" \")"
   ]
  },
  {
   "cell_type": "markdown",
   "id": "15",
   "metadata": {},
   "source": [
    "---\n",
    "### Question 7\n",
    "\n",
    "Take the variables `a1`, `a2` and `a3` from question 6, combine them to a string `b`\n",
    "such that it says `\"programming I like\"`. Do this using\n",
    "\n",
    "- [ ] f-strings\n",
    "- [ ] the `+` operator."
   ]
  },
  {
   "cell_type": "code",
   "execution_count": null,
   "id": "16",
   "metadata": {},
   "outputs": [],
   "source": [
    "\n",
    "f\"{a3} {a1} {a2}\""
   ]
  },
  {
   "cell_type": "code",
   "execution_count": null,
   "id": "17",
   "metadata": {},
   "outputs": [],
   "source": [
    "\n",
    "a3 + \" \" + a1 + \" \" + a2"
   ]
  },
  {
   "cell_type": "markdown",
   "id": "18",
   "metadata": {},
   "source": [
    "---\n",
    "### Question 8 (Bonus)\n",
    "\n",
    "Given a string `\"Python programming is fun!\"`, replace all occurrences of\n",
    "the character 'o' with the character '0' (zero), then check if the resulting\n",
    "string starts with 'Pyt' and ends with 'fun!'."
   ]
  },
  {
   "cell_type": "code",
   "execution_count": null,
   "id": "19",
   "metadata": {},
   "outputs": [],
   "source": [
    "\n",
    "s = \"Python programming is fun!\"\n",
    "s_updated = s.replace(\"o\", \"0\")\n",
    "starts_with = s_updated.startswith(\"Pyt\")\n",
    "ends_with = s_updated.endswith(\"fun!\")\n",
    "print(starts_with, ends_with)"
   ]
  },
  {
   "cell_type": "markdown",
   "id": "20",
   "metadata": {},
   "source": [
    "## Lists, Tuples and Sets\n",
    "\n",
    "---\n",
    "### Question 9\n",
    "\n",
    "Define the list `a = [-99, -99, 3, 4, 5]` and the tuple `b = (1, 2)`. Assign the values\n",
    "of `b` to the corresponding positions in `a`."
   ]
  },
  {
   "cell_type": "code",
   "execution_count": null,
   "id": "21",
   "metadata": {},
   "outputs": [],
   "source": [
    "\n",
    "a = [-99, -99, 3, 4, 5]\n",
    "b = (1, 2)\n",
    "\n",
    "a[:2] = b\n",
    "\n",
    "a"
   ]
  },
  {
   "cell_type": "markdown",
   "id": "22",
   "metadata": {},
   "source": [
    "---\n",
    "### Question 10\n",
    "\n",
    "Execute the following code. Why is the result False?"
   ]
  },
  {
   "cell_type": "code",
   "execution_count": null,
   "id": "23",
   "metadata": {},
   "outputs": [],
   "source": [
    "\"ab\" in set(\"abc\")"
   ]
  },
  {
   "cell_type": "markdown",
   "id": "24",
   "metadata": {},
   "source": [
    "The `set` function expects an input object over which one can iterate. This could be a\n",
    "list `[1, 2, 3]` or a tuple `(1, 2, 3)`. When we pass the str `\"abc\"` it is treated as\n",
    "an iterable. As the lecture shows, we can call `\"abc\"[k]` for `k = 0, 1, 2`. And so,\n",
    "`set(\"abc\")` creates the set `{\"a\", \"b\", \"c\"}`, which does not contain `\"ab\"`."
   ]
  },
  {
   "cell_type": "markdown",
   "id": "25",
   "metadata": {},
   "source": [
    "---\n",
    "### Question 11 (Bonus)\n",
    "\n",
    "Given two lists `l1 = [1, 2, 3, 4]` and `l2 = [3, 4, 5, 6]`, create a new list\n",
    "`l3` that contains the elements that are common to both lists, without any\n",
    "duplicates."
   ]
  },
  {
   "cell_type": "code",
   "execution_count": null,
   "id": "26",
   "metadata": {},
   "outputs": [],
   "source": [
    "l1 = [1, 2, 3, 4]\n",
    "l2 = [3, 4, 5, 6]\n",
    "l3 = list(set(l1) & set(l2))\n",
    "l3"
   ]
  },
  {
   "cell_type": "markdown",
   "id": "27",
   "metadata": {},
   "source": [
    "## Dictionaries\n",
    "\n",
    "---\n",
    "### Question 12\n",
    "\n",
    "Define a dictionary that maps names to a level of Python knowledge. As names you can\n",
    "take the names of your group (min. three people in total). The Python knowledge should\n",
    "be rated on a scale from 0 to 10."
   ]
  },
  {
   "cell_type": "code",
   "execution_count": null,
   "id": "28",
   "metadata": {},
   "outputs": [],
   "source": [
    "python_knowledge = {\n",
    "    \"Janos\": 8,\n",
    "    \"Tobi\": 10,\n",
    "    \"Mariam\": 9,\n",
    "}"
   ]
  },
  {
   "cell_type": "markdown",
   "id": "29",
   "metadata": {},
   "source": [
    "---\n",
    "### Question 13\n",
    "\n",
    "Define a dictionary `d1` that maps the keys `\"a\"` and `\"b\"`, to the values `1` and `2`,\n",
    "respectively. Create another dictionary `d2` that maps the key `\"c\"` to the value `3`.\n",
    "Now, add the second dictionary as an entry to the first dictionary under the key `\"d\"`."
   ]
  },
  {
   "cell_type": "code",
   "execution_count": null,
   "id": "30",
   "metadata": {},
   "outputs": [],
   "source": [
    "d1 = {\n",
    "    \"a\": 1,\n",
    "    \"b\": 2,\n",
    "}\n",
    "\n",
    "d2 = {\"c\": 3}\n",
    "\n",
    "d1[\"d\"] = d2\n",
    "d1"
   ]
  },
  {
   "cell_type": "markdown",
   "id": "31",
   "metadata": {},
   "source": [
    "---\n",
    "### Question 14\n",
    "\n",
    "Create a dictionary called `student_grades` with three keys: `math`, `english`, and `econ`. Each key should have a list of three grades as its value (use positive ints). Calculate the average grade for each subject. Store the results in another dictionary called `average_grades` with the same keys as `student_grades`.\n",
    "\n",
    "> **Note:**\n",
    ">\n",
    "> Consider the [documentation](https://docs.python.org/3/library/functions.html#sum) of the `sum` function."
   ]
  },
  {
   "cell_type": "code",
   "execution_count": null,
   "id": "32",
   "metadata": {},
   "outputs": [],
   "source": [
    "student_grades = {\"math\": [88, 90, 95], \"english\": [76, 80, 82], \"econ\": [89, 94, 91]}\n",
    "\n",
    "average_grades = {\n",
    "    \"math\": sum(student_grades[\"math\"]) / len(student_grades[\"math\"]),\n",
    "    \"english\": sum(student_grades[\"english\"]) / len(student_grades[\"english\"]),\n",
    "    \"econ\": sum(student_grades[\"econ\"]) / len(student_grades[\"econ\"]),\n",
    "}\n",
    "\n",
    "average_grades"
   ]
  },
  {
   "cell_type": "markdown",
   "id": "33",
   "metadata": {},
   "source": [
    "## Tracebacks\n",
    "\n",
    "---\n",
    "### Question 15\n",
    "\n",
    "Explain how this code\n",
    "\n",
    "```python\n",
    ">>> \"a\" + a\n",
    "```\n",
    "\n",
    "can produce the following error:\n",
    "\n",
    "```python\n",
    "---------------------------------------------------------------------------\n",
    "TypeError                                 Traceback (most recent call last)\n",
    "Cell In[3], line 1\n",
    "----> 1 \"a\" + a\n",
    "\n",
    "TypeError: can only concatenate str (not \"int\") to str\n",
    "```"
   ]
  },
  {
   "cell_type": "markdown",
   "id": "34",
   "metadata": {},
   "source": [
    "The variable `a` is an integer, and addition of integers and str is not defined via the `+` operator."
   ]
  },
  {
   "cell_type": "code",
   "execution_count": null,
   "id": "35",
   "metadata": {},
   "outputs": [],
   "source": [
    "a = 2\n",
    "\"a\" + a"
   ]
  },
  {
   "cell_type": "markdown",
   "id": "36",
   "metadata": {},
   "source": [
    "---\n",
    "### Question 16\n",
    "\n",
    "How could `d` look like, such that executing\n",
    "\n",
    "```python\n",
    ">>> d[\"c\"]\n",
    "```\n",
    "\n",
    "can produce the following traceback:\n",
    "\n",
    "```python\n",
    "---------------------------------------------------------------------------\n",
    "KeyError                                  Traceback (most recent call last)\n",
    "Cell In[5], line 1\n",
    "----> 1 d[\"c\"]\n",
    "\n",
    "KeyError: 'c'\n",
    "```"
   ]
  },
  {
   "cell_type": "code",
   "execution_count": null,
   "id": "37",
   "metadata": {},
   "outputs": [],
   "source": [
    "d = {\"a\": 1, \"b\": \"x\"}\n",
    "d[\"c\"]"
   ]
  },
  {
   "cell_type": "markdown",
   "id": "38",
   "metadata": {},
   "source": [
    "---\n",
    "### Question 17 (Bonus)\n",
    "\n",
    "Given the following code snippet, identify what will cause a `ValueError` to\n",
    "occur and explain why.\n",
    "\n",
    "```python\n",
    "string_zero = \"0\"\n",
    "\n",
    "print(int(string_zero))\n",
    "\n",
    "string_ten = \"ten\"\n",
    "\n",
    "print(int(string_ten))\n",
    "```"
   ]
  },
  {
   "cell_type": "markdown",
   "id": "39",
   "metadata": {},
   "source": [
    "\n",
    "The `ValueError` occurs because the `int` function is attempting to convert a\n",
    "non-numeric string (\"ten\") to an integer, which is not possible in Python. The\n",
    "`int` function can only convert strings that represent integer values, i.e. \"0\"\n",
    "or \"10\"."
   ]
  },
  {
   "cell_type": "markdown",
   "id": "43",
   "metadata": {},
   "source": [
    "---\n",
    "\n",
    "### Question 18\n",
    "\n",
    "Use a for loop to create a list containing all even numbers between 0 and 10. You do not\n",
    "need if conditions to do this. "
   ]
  },
  {
   "cell_type": "code",
   "execution_count": null,
   "id": "44",
   "metadata": {},
   "outputs": [],
   "source": [
    "\n",
    "evens = []\n",
    "for i in range(6):\n",
    "    evens.append(i * 2)\n",
    "evens"
   ]
  },
  {
   "cell_type": "code",
   "execution_count": null,
   "id": "45",
   "metadata": {},
   "outputs": [],
   "source": [
    "list(range(0, 11, 2))"
   ]
  },
  {
   "cell_type": "markdown",
   "id": "46",
   "metadata": {},
   "source": [
    "---\n",
    "\n",
    "### Question 19\n",
    "\n",
    "Your solution to question 14 probably looked something like this:\n",
    "\n",
    "```python\n",
    "student_grades = {\"math\": [88, 90, 95], \"english\": [76, 80, 82], \"econ\": [89, 94, 91]}\n",
    "\n",
    "average_grades = {\n",
    "    \"math\": sum(student_grades[\"math\"]) / len(student_grades[\"math\"]),\n",
    "    \"english\": sum(student_grades[\"english\"]) / len(student_grades[\"english\"]),\n",
    "    \"econ\": sum(student_grades[\"econ\"]) / len(student_grades[\"econ\"]),\n",
    "}\n",
    "```\n",
    "\n",
    "Redo this question using a for loop over the three subjects and discuss why this makes \n",
    "the code better\n"
   ]
  },
  {
   "cell_type": "code",
   "execution_count": null,
   "id": "47",
   "metadata": {},
   "outputs": [],
   "source": [
    "\n",
    "student_grades = {\"math\": [88, 90, 95], \"english\": [76, 80, 82], \"econ\": [89, 94, 91]}\n",
    "\n",
    "\n",
    "average_grades = {}\n",
    "for subject, grades in student_grades.items():\n",
    "    average_grades[subject] = sum(grades) / len(grades)\n",
    "\n",
    "\n",
    "average_grades"
   ]
  }
 ],
 "metadata": {
  "language_info": {
   "codemirror_mode": {
    "name": "ipython",
    "version": 3
   },
   "file_extension": ".py",
   "mimetype": "text/x-python",
   "name": "python",
   "nbconvert_exporter": "python",
   "pygments_lexer": "ipython3"
  }
 },
 "nbformat": 4,
 "nbformat_minor": 5
}
